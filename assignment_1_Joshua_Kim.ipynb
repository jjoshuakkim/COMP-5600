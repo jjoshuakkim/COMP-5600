{
  "nbformat": 4,
  "nbformat_minor": 0,
  "metadata": {
    "colab": {
      "provenance": [],
      "authorship_tag": "ABX9TyN7DtiImwTBBHHz2aLfD/T1",
      "include_colab_link": true
    },
    "kernelspec": {
      "name": "python3",
      "display_name": "Python 3"
    },
    "language_info": {
      "name": "python"
    }
  },
  "cells": [
    {
      "cell_type": "markdown",
      "metadata": {
        "id": "view-in-github",
        "colab_type": "text"
      },
      "source": [
        "<a href=\"https://colab.research.google.com/github/jjoshuakkim/COMP-5600/blob/main/assignment_1_Joshua_Kim.ipynb\" target=\"_parent\"><img src=\"https://colab.research.google.com/assets/colab-badge.svg\" alt=\"Open In Colab\"/></a>"
      ]
    },
    {
      "cell_type": "code",
      "source": [
        "from collections import deque\n",
        "import csv\n",
        "import heapq\n",
        "import time\n",
        "\n",
        "from google.colab import drive\n",
        "drive.mount('/content/drive')\n",
        "\n",
        "edge_file_1_path = '/content/drive/MyDrive/assignment-1-test-cases/TestCase_01_EdgeList.txt'\n",
        "edge_file_2_path = '/content/drive/MyDrive/assignment-1-test-cases/TestCase_02_EdgeList.txt'\n",
        "edge_file_3_path = '/content/drive/MyDrive/assignment-1-test-cases/TestCase_03_EdgeList.txt'\n",
        "\n",
        "coor_file_1_path = '/content/drive/MyDrive/assignment-1-test-cases/TestCase_01_NodeID.csv'\n",
        "coor_file_2_path = '/content/drive/MyDrive/assignment-1-test-cases/TestCase_02_NodeID.csv'\n",
        "coor_file_3_path = '/content/drive/MyDrive/assignment-1-test-cases/TestCase_03_NodeID.csv'"
      ],
      "metadata": {
        "id": "n7x_oES9qytQ",
        "colab": {
          "base_uri": "https://localhost:8080/"
        },
        "outputId": "8a6dc4e3-084b-4a59-81bc-fe965dca40e6"
      },
      "execution_count": null,
      "outputs": [
        {
          "output_type": "stream",
          "name": "stdout",
          "text": [
            "Drive already mounted at /content/drive; to attempt to forcibly remount, call drive.mount(\"/content/drive\", force_remount=True).\n"
          ]
        }
      ]
    },
    {
      "cell_type": "markdown",
      "source": [
        "Saving the coordinates as a dictionary of nodes and coordinates ({n_1: (0, 0), n_2: (0, 1), ..., n_n: (100, 100)})\n",
        "\n",
        "Saving edge weights and nodes as an adjacency list: ({'N_15': [('N_20', '1.0'), ('N_10', '1.0')], 'N_20': [('N_15', '1.0')]})"
      ],
      "metadata": {
        "id": "29Iol2fFxSBY"
      }
    },
    {
      "cell_type": "code",
      "source": [
        "def read_coordinates_from_csv(file_path):\n",
        "    with open(file_path, 'r') as csvfile:\n",
        "        reader = csv.reader(csvfile)\n",
        "\n",
        "        coordinates = {}\n",
        "        for row in reader:\n",
        "            name, x, y = row\n",
        "            coordinates[name] = (int(x), int(y))\n",
        "    return coordinates\n",
        "\n",
        "def load_edges(filename):\n",
        "    edges = {}\n",
        "    with open(filename, 'r') as file:\n",
        "        for line in file:\n",
        "            n1, n2, w = line.strip().split(\",\")\n",
        "            if n1 not in edges:\n",
        "                edges[n1] = []\n",
        "            if n2 not in edges:\n",
        "                edges[n2] = []\n",
        "            edges[n1].append((n2, w))\n",
        "            edges[n2].append((n1, w))\n",
        "    return edges\n"
      ],
      "metadata": {
        "id": "0lyGtfZfs962"
      },
      "execution_count": null,
      "outputs": []
    },
    {
      "cell_type": "code",
      "source": [
        "graph_1, graph_2, graph_3 = load_edges(edge_file_1_path), load_edges(edge_file_2_path), load_edges(edge_file_3_path)\n",
        "coor_1, coor_2, coor_3 = read_coordinates_from_csv(coor_file_1_path), read_coordinates_from_csv(coor_file_2_path), read_coordinates_from_csv(coor_file_3_path)"
      ],
      "metadata": {
        "id": "W8-vW7JVoAzy"
      },
      "execution_count": null,
      "outputs": []
    },
    {
      "cell_type": "markdown",
      "source": [
        "**BFS Implementation**\n",
        "\n",
        "Using the graph created by the load_edges function, we can identify which nodes are connected to one another. Starting from the starting node, we then visit each of its neighbors, and recycle the process until we reach the target node."
      ],
      "metadata": {
        "id": "kxUUciOap2hd"
      }
    },
    {
      "cell_type": "code",
      "execution_count": null,
      "metadata": {
        "id": "QgcZV-pMo4Kx"
      },
      "outputs": [],
      "source": [
        "def bfs(graph, start_node, target_node):\n",
        "    visited = set()\n",
        "    output = []\n",
        "    queue = deque([start_node])\n",
        "    visited.add(start_node)\n",
        "\n",
        "    while queue:\n",
        "        current_node = queue.popleft()\n",
        "        output.append(current_node)\n",
        "\n",
        "        if current_node == target_node:\n",
        "            break\n",
        "\n",
        "        for neighbor, weight in graph.get(current_node, []):\n",
        "            if neighbor not in visited:\n",
        "                queue.append(neighbor)\n",
        "                visited.add(neighbor)\n",
        "    return output"
      ]
    },
    {
      "cell_type": "markdown",
      "source": [
        "**DFS Implementation**\n",
        "\n",
        "The strategy here was to traverse a graph starting at start_node, using a stack to keep a track of nodes to be explored \"depth-first-search-ly\", meaning it explores as far as possible each avenue before backtracking. To do this, I made the stack to hold the current node and the path taken to reach that node so you could keep track of the path during the traversal."
      ],
      "metadata": {
        "id": "UMMK1PEsphE7"
      }
    },
    {
      "cell_type": "code",
      "source": [
        "def dfs(graph, start_node, target_node):\n",
        "    visited = set()\n",
        "    stack = [(start_node, [start_node])]\n",
        "    output = []\n",
        "\n",
        "    while stack:\n",
        "        node, path = stack.pop()\n",
        "        if node not in visited:\n",
        "            visited.add(node)\n",
        "            output.append(node)\n",
        "\n",
        "            if node == target_node:\n",
        "                break\n",
        "\n",
        "            for neighbor, weight in graph[node]:\n",
        "                stack.append((neighbor, path + [neighbor]))\n",
        "    return output"
      ],
      "metadata": {
        "id": "hnmJfdE1FyDW"
      },
      "execution_count": null,
      "outputs": []
    },
    {
      "cell_type": "markdown",
      "source": [
        "**Verifying list of states visited by BFS and DFS**"
      ],
      "metadata": {
        "id": "EF4pjkF5_0JN"
      }
    },
    {
      "cell_type": "code",
      "source": [
        "print(\"Test case 1 results:\")\n",
        "print(\"BFS: \", bfs(graph_1, 'N_0', 'N_24'))\n",
        "print(\"DFS: \", dfs(graph_1, 'N_0', 'N_24'))\n",
        "print()\n",
        "\n",
        "print(\"Test case 2 results: \")\n",
        "print(\"BFS: \", bfs(graph_2, 'N_0', 'N_99'))\n",
        "print(\"DFS: \", dfs(graph_2, 'N_0', 'N_99'))\n",
        "print()\n",
        "\n",
        "print(\"Test case 3 results: \")\n",
        "print(\"BFS: \", bfs(graph_3, 'N_0', 'N_999'))\n",
        "print(\"DFS: \", dfs(graph_3, 'N_0', 'N_999'))\n",
        "print()"
      ],
      "metadata": {
        "colab": {
          "base_uri": "https://localhost:8080/"
        },
        "id": "uRv8MKwa_9UD",
        "outputId": "a2b7f4e5-30bc-4850-f3dd-1102eaf2ec10"
      },
      "execution_count": null,
      "outputs": [
        {
          "output_type": "stream",
          "name": "stdout",
          "text": [
            "Test case 1 results:\n",
            "BFS:  ['N_0', 'N_1', 'N_6', 'N_2', 'N_5', 'N_7', 'N_3', 'N_10', 'N_12', 'N_11', 'N_15', 'N_13', 'N_17', 'N_16', 'N_20', 'N_14', 'N_8', 'N_18', 'N_22', 'N_21', 'N_9', 'N_19', 'N_23', 'N_4', 'N_24']\n",
            "DFS:  ['N_0', 'N_1', 'N_2', 'N_3', 'N_6', 'N_7', 'N_12', 'N_17', 'N_22', 'N_23', 'N_13', 'N_18', 'N_19', 'N_24']\n",
            "\n",
            "Test case 2 results: \n",
            "BFS:  ['N_0', 'N_10', 'N_20', 'N_11', 'N_1', 'N_2', 'N_3', 'N_12', 'N_4', 'N_13', 'N_14', 'N_23', 'N_33', 'N_24', 'N_22', 'N_34', 'N_25', 'N_35', 'N_15', 'N_26', 'N_45', 'N_36', 'N_16', 'N_55', 'N_44', 'N_46', 'N_37', 'N_6', 'N_54', 'N_43', 'N_56', 'N_47', 'N_27', 'N_38', 'N_5', 'N_64', 'N_53', 'N_42', 'N_66', 'N_57', 'N_28', 'N_17', 'N_48', 'N_63', 'N_32', 'N_52', 'N_67', 'N_58', 'N_18', 'N_31', 'N_68', 'N_59', 'N_8', 'N_41', 'N_30', 'N_21', 'N_69', 'N_78', 'N_49', 'N_7', 'N_9', 'N_51', 'N_40', 'N_79', 'N_77', 'N_19', 'N_50', 'N_61', 'N_89', 'N_87', 'N_29', 'N_60', 'N_71', 'N_99']\n",
            "DFS:  ['N_0', 'N_10', 'N_11', 'N_1', 'N_2', 'N_12', 'N_3', 'N_13', 'N_23', 'N_22', 'N_24', 'N_25', 'N_26', 'N_15', 'N_16', 'N_6', 'N_5', 'N_34', 'N_35', 'N_36', 'N_37', 'N_38', 'N_48', 'N_27', 'N_17', 'N_18', 'N_8', 'N_9', 'N_19', 'N_29', 'N_39', 'N_7', 'N_28', 'N_46', 'N_47', 'N_56', 'N_57', 'N_58', 'N_59', 'N_49', 'N_67', 'N_68', 'N_78', 'N_77', 'N_87', 'N_86', 'N_85', 'N_84', 'N_74', 'N_94', 'N_83', 'N_73', 'N_93', 'N_92', 'N_95', 'N_96', 'N_76', 'N_75', 'N_65', 'N_97', 'N_88', 'N_98', 'N_79', 'N_89', 'N_99']\n",
            "\n",
            "Test case 3 results: \n",
            "BFS:  ['N_0', 'N_1', 'N_100', 'N_2', 'N_200', 'N_102', 'N_300', 'N_201', 'N_400', 'N_301', 'N_101', 'N_202', 'N_500', 'N_401', 'N_302', 'N_501', 'N_600', 'N_402', 'N_502', 'N_602', 'N_601', 'N_603', 'N_503', 'N_703', 'N_604', 'N_504', 'N_403', 'N_803', 'N_704', 'N_605', 'N_404', 'N_303', 'N_802', 'N_903', 'N_804', 'N_705', 'N_304', 'N_203', 'N_902', 'N_801', 'N_904', 'N_805', 'N_706', 'N_204', 'N_901', 'N_800', 'N_905', 'N_806', 'N_205', 'N_900', 'N_700', 'N_906', 'N_305', 'N_206', 'N_701', 'N_306', 'N_207', 'N_702', 'N_406', 'N_107', 'N_307', 'N_405', 'N_506', 'N_407', 'N_108', 'N_106', 'N_7', 'N_505', 'N_606', 'N_208', 'N_8', 'N_109', 'N_6', 'N_105', 'N_607', 'N_209', 'N_308', 'N_9', 'N_110', 'N_5', 'N_707', 'N_608', 'N_309', 'N_10', 'N_111', 'N_210', 'N_4', 'N_807', 'N_708', 'N_609', 'N_310', 'N_11', 'N_112', 'N_3', 'N_808', 'N_709', 'N_610', 'N_311', 'N_410', 'N_12', 'N_212', 'N_103', 'N_908', 'N_809', 'N_611', 'N_211', 'N_312', 'N_409', 'N_510', 'N_213', 'N_104', 'N_909', 'N_907', 'N_810', 'N_711', 'N_412', 'N_509', 'N_511', 'N_113', 'N_313', 'N_910', 'N_712', 'N_710', 'N_811', 'N_411', 'N_508', 'N_114', 'N_413', 'N_713', 'N_812', 'N_911', 'N_507', 'N_408', 'N_14', 'N_115', 'N_513', 'N_813', 'N_912', 'N_13', 'N_15', 'N_116', 'N_215', 'N_512', 'N_514', 'N_613', 'N_913', 'N_117', 'N_315', 'N_216', 'N_612', 'N_614', 'N_914', 'N_217', 'N_17', 'N_415', 'N_316', 'N_714', 'N_218', 'N_317', 'N_16', 'N_18', 'N_414', 'N_416', 'N_715', 'N_814', 'N_318', 'N_118', 'N_19', 'N_314', 'N_417', 'N_516', 'N_716', 'N_815', 'N_418', 'N_119', 'N_20', 'N_214', 'N_616', 'N_915', 'N_816', 'N_419', 'N_518', 'N_21', 'N_615', 'N_617', 'N_916', 'N_817', 'N_519', 'N_420', 'N_121', 'N_22', 'N_515', 'N_517', 'N_717', 'N_618', 'N_917', 'N_122', 'N_120', 'N_23', 'N_718', 'N_619', 'N_222', 'N_123', 'N_220', 'N_24', 'N_719', 'N_221', 'N_322', 'N_223', 'N_124', 'N_219', 'N_720', 'N_819', 'N_321', 'N_323', 'N_125', 'N_224', 'N_319', 'N_721', 'N_820', 'N_818', 'N_421', 'N_324', 'N_423', 'N_225', 'N_25', 'N_320', 'N_722', 'N_821', 'N_920', 'N_918', 'N_325', 'N_424', 'N_422', 'N_226', 'N_26', 'N_921', 'N_919', 'N_524', 'N_425', 'N_522', 'N_126', 'N_326', 'N_27', 'N_523', 'N_525', 'N_426', 'N_622', 'N_521', 'N_127', 'N_327', 'N_625', 'N_520', 'N_227', 'N_427', 'N_624', 'N_725', 'N_620', 'N_228', 'N_428', 'N_527', 'N_623', 'N_621', 'N_128', 'N_328', 'N_528', 'N_526', 'N_129', 'N_626', 'N_229', 'N_130', 'N_29', 'N_329', 'N_230', 'N_131', 'N_30', 'N_28', 'N_231', 'N_330', 'N_132', 'N_31', 'N_430', 'N_331', 'N_32', 'N_429', 'N_332', 'N_33', 'N_529', 'N_232', 'N_333', 'N_432', 'N_133', 'N_629', 'N_233', 'N_433', 'N_431', 'N_532', 'N_630', 'N_628', 'N_234', 'N_533', 'N_434', 'N_531', 'N_631', 'N_730', 'N_627', 'N_728', 'N_235', 'N_134', 'N_633', 'N_534', 'N_435', 'N_334', 'N_530', 'N_731', 'N_830', 'N_727', 'N_828', 'N_135', 'N_34', 'N_632', 'N_535', 'N_634', 'N_831', 'N_827', 'N_35', 'N_635', 'N_734', 'N_927', 'N_826', 'N_36', 'N_636', 'N_735', 'N_834', 'N_733', 'N_926', 'N_928', 'N_726', 'N_37', 'N_736', 'N_536', 'N_637', 'N_835', 'N_833', 'N_732', 'N_925', 'N_38', 'N_436', 'N_737', 'N_836', 'N_935', 'N_832', 'N_933', 'N_825', 'N_138', 'N_39', 'N_336', 'N_837', 'N_738', 'N_934', 'N_932', 'N_824', 'N_139', 'N_236', 'N_335', 'N_937', 'N_638', 'N_838', 'N_931', 'N_924', 'N_724', 'N_239', 'N_140', 'N_237', 'N_136', 'N_936', 'N_538', 'N_639', 'N_930', 'N_723', 'N_238', 'N_339', 'N_40', 'N_240', 'N_337', 'N_137', 'N_537', 'N_739', 'N_929', 'N_823', 'N_338', 'N_340', 'N_41', 'N_437', 'N_829', 'N_822', 'N_923', 'N_341', 'N_141', 'N_42', 'N_438', 'N_729', 'N_922', 'N_241', 'N_142', 'N_43', 'N_439', 'N_242', 'N_143', 'N_44', 'N_440', 'N_539', 'N_243', 'N_342', 'N_244', 'N_343', 'N_144', 'N_245', 'N_443', 'N_145', 'N_543', 'N_442', 'N_45', 'N_544', 'N_441', 'N_46', 'N_444', 'N_545', 'N_541', 'N_146', 'N_47', 'N_344', 'N_546', 'N_645', 'N_445', 'N_542', 'N_540', 'N_641', 'N_147', 'N_246', 'N_48', 'N_345', 'N_547', 'N_644', 'N_646', 'N_642', 'N_640', 'N_741', 'N_148', 'N_49', 'N_346', 'N_647', 'N_744', 'N_643', 'N_740', 'N_742', 'N_149', 'N_347', 'N_446', 'N_747', 'N_745', 'N_840', 'N_842', 'N_249', 'N_150', 'N_247', 'N_447', 'N_748', 'N_746', 'N_839', 'N_940', 'N_843', 'N_841', 'N_248', 'N_349', 'N_250', 'N_151', 'N_448', 'N_648', 'N_846', 'N_939', 'N_743', 'N_943', 'N_941', 'N_348', 'N_449', 'N_350', 'N_51', 'N_548', 'N_845', 'N_946', 'N_847', 'N_938', 'N_942', 'N_450', 'N_50', 'N_844', 'N_947', 'N_848', 'N_550', 'N_944', 'N_948', 'N_549', 'N_650', 'N_551', 'N_945', 'N_949', 'N_649', 'N_750', 'N_651', 'N_451', 'N_950', 'N_749', 'N_751', 'N_351', 'N_849', 'N_851', 'N_352', 'N_251', 'N_951', 'N_850', 'N_252', 'N_952', 'N_253', 'N_152', 'N_153', 'N_52', 'N_53', 'N_54', 'N_55', 'N_154', 'N_155', 'N_56', 'N_254', 'N_156', 'N_57', 'N_354', 'N_255', 'N_256', 'N_157', 'N_58', 'N_353', 'N_355', 'N_356', 'N_158', 'N_453', 'N_456', 'N_357', 'N_159', 'N_452', 'N_455', 'N_556', 'N_257', 'N_457', 'N_59', 'N_259', 'N_160', 'N_552', 'N_454', 'N_557', 'N_555', 'N_60', 'N_258', 'N_260', 'N_553', 'N_652', 'N_657', 'N_655', 'N_61', 'N_358', 'N_261', 'N_554', 'N_752', 'N_653', 'N_757', 'N_658', 'N_755', 'N_656', 'N_654', 'N_62', 'N_359', 'N_852', 'N_754', 'N_855', 'N_756', 'N_162', 'N_853', 'N_854', 'N_753', 'N_955', 'N_856', 'N_161', 'N_262', 'N_163', 'N_953', 'N_956', 'N_857', 'N_164', 'N_263', 'N_63', 'N_954', 'N_957', 'N_165', 'N_264', 'N_363', 'N_65', 'N_364', 'N_463', 'N_64', 'N_66', 'N_563', 'N_464', 'N_67', 'N_166', 'N_562', 'N_564', 'N_465', 'N_167', 'N_68', 'N_266', 'N_662', 'N_561', 'N_267', 'N_168', 'N_366', 'N_762', 'N_663', 'N_661', 'N_367', 'N_169', 'N_268', 'N_365', 'N_862', 'N_761', 'N_763', 'N_664', 'N_660', 'N_69', 'N_368', 'N_265', 'N_962', 'N_764', 'N_665', 'N_760', 'N_560', 'N_70', 'N_369', 'N_864', 'N_765', 'N_860', 'N_170', 'N_71', 'N_269', 'N_370', 'N_469', 'N_964', 'N_863', 'N_865', 'N_766', 'N_859', 'N_861', 'N_960', 'N_72', 'N_171', 'N_470', 'N_371', 'N_468', 'N_569', 'N_963', 'N_767', 'N_866', 'N_759', 'N_959', 'N_961', 'N_172', 'N_73', 'N_271', 'N_467', 'N_570', 'N_768', 'N_966', 'N_867', 'N_758', 'N_659', 'N_958', 'N_173', 'N_272', 'N_74', 'N_270', 'N_567', 'N_466', 'N_668', 'N_868', 'N_965', 'N_967', 'N_858', 'N_559', 'N_273', 'N_372', 'N_75', 'N_174', 'N_568', 'N_566', 'N_968', 'N_459', 'N_558', 'N_373', 'N_472', 'N_76', 'N_175', 'N_565', 'N_666', 'N_460', 'N_458', 'N_473', 'N_471', 'N_77', 'N_176', 'N_275', 'N_667', 'N_461', 'N_360', 'N_571', 'N_177', 'N_274', 'N_276', 'N_462', 'N_361', 'N_572', 'N_277', 'N_374', 'N_362', 'N_672', 'N_377', 'N_278', 'N_474', 'N_375', 'N_671', 'N_673', 'N_376', 'N_378', 'N_178', 'N_574', 'N_771', 'N_670', 'N_476', 'N_78', 'N_179', 'N_575', 'N_573', 'N_772', 'N_871', 'N_770', 'N_477', 'N_279', 'N_79', 'N_180', 'N_675', 'N_576', 'N_475', 'N_773', 'N_971', 'N_870', 'N_769', 'N_577', 'N_80', 'N_181', 'N_674', 'N_676', 'N_972', 'N_970', 'N_869', 'N_669', 'N_677', 'N_578', 'N_81', 'N_774', 'N_969', 'N_678', 'N_478', 'N_579', 'N_82', 'N_775', 'N_679', 'N_580', 'N_875', 'N_680', 'N_480', 'N_874', 'N_681', 'N_380', 'N_479', 'N_873', 'N_974', 'N_682', 'N_280', 'N_379', 'N_872', 'N_973', 'N_582', 'N_281', 'N_581', 'N_482', 'N_381', 'N_282', 'N_382', 'N_481', 'N_283', 'N_383', 'N_284', 'N_183', 'N_384', 'N_184', 'N_83', 'N_182', 'N_484', 'N_84', 'N_483', 'N_485', 'N_85', 'N_583', 'N_486', 'N_585', 'N_185', 'N_586', 'N_584', 'N_685', 'N_186', 'N_686', 'N_684', 'N_785', 'N_286', 'N_86', 'N_786', 'N_687', 'N_784', 'N_683', 'N_285', 'N_287', 'N_386', 'N_886', 'N_688', 'N_587', 'N_783', 'N_385', 'N_187', 'N_887', 'N_788', 'N_487', 'N_883', 'N_782', 'N_87', 'N_787', 'N_789', 'N_888', 'N_387', 'N_884', 'N_781', 'N_882', 'N_88', 'N_689', 'N_790', 'N_988', 'N_889', 'N_984', 'N_885', 'N_780', 'N_881', 'N_982', 'N_188', 'N_89', 'N_589', 'N_890', 'N_791', 'N_989', 'N_985', 'N_779', 'N_983', 'N_288', 'N_90', 'N_189', 'N_990', 'N_691', 'N_986', 'N_778', 'N_879', 'N_289', 'N_388', 'N_91', 'N_190', 'N_692', 'N_591', 'N_987', 'N_777', 'N_878', 'N_880', 'N_389', 'N_488', 'N_92', 'N_290', 'N_191', 'N_792', 'N_693', 'N_590', 'N_877', 'N_489', 'N_588', 'N_93', 'N_192', 'N_291', 'N_892', 'N_694', 'N_593', 'N_690', 'N_876', 'N_490', 'N_94', 'N_193', 'N_292', 'N_391', 'N_893', 'N_992', 'N_594', 'N_794', 'N_776', 'N_976', 'N_390', 'N_95', 'N_194', 'N_293', 'N_392', 'N_491', 'N_793', 'N_991', 'N_993', 'N_795', 'N_894', 'N_977', 'N_975', 'N_96', 'N_195', 'N_492', 'N_393', 'N_891', 'N_994', 'N_796', 'N_695', 'N_978', 'N_97', 'N_196', 'N_592', 'N_493', 'N_995', 'N_797', 'N_896', 'N_595', 'N_696', 'N_979', 'N_197', 'N_296', 'N_996', 'N_895', 'N_897', 'N_495', 'N_697', 'N_980', 'N_198', 'N_997', 'N_698', 'N_981', 'N_98', 'N_298', 'N_998', 'N_699', 'N_798', 'N_99', 'N_999']\n",
            "DFS:  ['N_0', 'N_100', 'N_200', 'N_201', 'N_202', 'N_101', 'N_300', 'N_301', 'N_302', 'N_402', 'N_502', 'N_602', 'N_603', 'N_604', 'N_605', 'N_703', 'N_704', 'N_705', 'N_706', 'N_804', 'N_805', 'N_806', 'N_905', 'N_906', 'N_904', 'N_803', 'N_903', 'N_802', 'N_801', 'N_800', 'N_700', 'N_701', 'N_702', 'N_901', 'N_900', 'N_902', 'N_503', 'N_403', 'N_303', 'N_203', 'N_204', 'N_205', 'N_206', 'N_207', 'N_307', 'N_107', 'N_7', 'N_106', 'N_105', 'N_5', 'N_4', 'N_3', 'N_103', 'N_104', 'N_6', 'N_108', 'N_109', 'N_110', 'N_210', 'N_111', 'N_112', 'N_212', 'N_213', 'N_313', 'N_413', 'N_513', 'N_613', 'N_614', 'N_714', 'N_814', 'N_715', 'N_815', 'N_816', 'N_817', 'N_917', 'N_915', 'N_916', 'N_716', 'N_514', 'N_512', 'N_612', 'N_113', 'N_114', 'N_115', 'N_215', 'N_216', 'N_315', 'N_316', 'N_416', 'N_516', 'N_616', 'N_617', 'N_618', 'N_619', 'N_718', 'N_719', 'N_819', 'N_818', 'N_918', 'N_919', 'N_820', 'N_920', 'N_720', 'N_721', 'N_821', 'N_921', 'N_722', 'N_717', 'N_517', 'N_615', 'N_515', 'N_417', 'N_415', 'N_414', 'N_314', 'N_214', 'N_116', 'N_117', 'N_17', 'N_18', 'N_19', 'N_20', 'N_21', 'N_22', 'N_23', 'N_24', 'N_121', 'N_120', 'N_220', 'N_219', 'N_319', 'N_320', 'N_122', 'N_123', 'N_124', 'N_224', 'N_125', 'N_25', 'N_26', 'N_27', 'N_225', 'N_226', 'N_326', 'N_327', 'N_427', 'N_527', 'N_526', 'N_626', 'N_428', 'N_528', 'N_126', 'N_127', 'N_227', 'N_228', 'N_328', 'N_128', 'N_129', 'N_29', 'N_28', 'N_30', 'N_130', 'N_131', 'N_31', 'N_32', 'N_33', 'N_133', 'N_132', 'N_230', 'N_330', 'N_331', 'N_332', 'N_432', 'N_532', 'N_531', 'N_530', 'N_431', 'N_333', 'N_433', 'N_434', 'N_334', 'N_435', 'N_534', 'N_634', 'N_734', 'N_733', 'N_732', 'N_834', 'N_833', 'N_933', 'N_932', 'N_931', 'N_930', 'N_929', 'N_829', 'N_729', 'N_934', 'N_832', 'N_835', 'N_935', 'N_836', 'N_735', 'N_635', 'N_636', 'N_637', 'N_737', 'N_738', 'N_838', 'N_638', 'N_639', 'N_739', 'N_538', 'N_537', 'N_837', 'N_937', 'N_936', 'N_536', 'N_436', 'N_336', 'N_335', 'N_236', 'N_136', 'N_137', 'N_237', 'N_337', 'N_437', 'N_438', 'N_439', 'N_539', 'N_440', 'N_736', 'N_535', 'N_533', 'N_633', 'N_632', 'N_233', 'N_234', 'N_134', 'N_34', 'N_235', 'N_135', 'N_35', 'N_36', 'N_37', 'N_38', 'N_39', 'N_138', 'N_139', 'N_140', 'N_240', 'N_40', 'N_41', 'N_42', 'N_43', 'N_44', 'N_142', 'N_143', 'N_242', 'N_342', 'N_243', 'N_343', 'N_443', 'N_442', 'N_441', 'N_541', 'N_641', 'N_741', 'N_742', 'N_842', 'N_841', 'N_941', 'N_942', 'N_843', 'N_943', 'N_743', 'N_540', 'N_640', 'N_740', 'N_840', 'N_940', 'N_839', 'N_939', 'N_938', 'N_542', 'N_642', 'N_643', 'N_543', 'N_544', 'N_545', 'N_445', 'N_645', 'N_646', 'N_644', 'N_744', 'N_745', 'N_546', 'N_547', 'N_647', 'N_747', 'N_746', 'N_846', 'N_847', 'N_848', 'N_948', 'N_949', 'N_950', 'N_946', 'N_947', 'N_845', 'N_844', 'N_944', 'N_945', 'N_748', 'N_648', 'N_444', 'N_344', 'N_345', 'N_346', 'N_446', 'N_447', 'N_448', 'N_548', 'N_347', 'N_247', 'N_244', 'N_245', 'N_144', 'N_145', 'N_45', 'N_46', 'N_47', 'N_48', 'N_49', 'N_146', 'N_246', 'N_147', 'N_148', 'N_149', 'N_150', 'N_151', 'N_51', 'N_50', 'N_249', 'N_250', 'N_350', 'N_349', 'N_449', 'N_450', 'N_550', 'N_551', 'N_451', 'N_351', 'N_251', 'N_352', 'N_252', 'N_152', 'N_52', 'N_253', 'N_153', 'N_53', 'N_54', 'N_154', 'N_254', 'N_255', 'N_355', 'N_354', 'N_353', 'N_453', 'N_452', 'N_552', 'N_652', 'N_653', 'N_752', 'N_852', 'N_853', 'N_953', 'N_954', 'N_553', 'N_554', 'N_55', 'N_56', 'N_57', 'N_58', 'N_155', 'N_156', 'N_157', 'N_158', 'N_159', 'N_160', 'N_260', 'N_261', 'N_259', 'N_258', 'N_358', 'N_359', 'N_59', 'N_60', 'N_61', 'N_62', 'N_162', 'N_163', 'N_63', 'N_263', 'N_363', 'N_463', 'N_464', 'N_465', 'N_563', 'N_564', 'N_562', 'N_561', 'N_661', 'N_660', 'N_560', 'N_760', 'N_860', 'N_960', 'N_861', 'N_961', 'N_859', 'N_959', 'N_958', 'N_759', 'N_659', 'N_559', 'N_558', 'N_458', 'N_459', 'N_460', 'N_360', 'N_361', 'N_362', 'N_461', 'N_462', 'N_758', 'N_858', 'N_662', 'N_663', 'N_664', 'N_665', 'N_765', 'N_766', 'N_866', 'N_867', 'N_967', 'N_968', 'N_966', 'N_965', 'N_767', 'N_768', 'N_868', 'N_668', 'N_865', 'N_764', 'N_864', 'N_863', 'N_964', 'N_963', 'N_762', 'N_763', 'N_761', 'N_862', 'N_962', 'N_364', 'N_264', 'N_164', 'N_165', 'N_65', 'N_66', 'N_166', 'N_266', 'N_366', 'N_365', 'N_265', 'N_67', 'N_68', 'N_167', 'N_168', 'N_268', 'N_368', 'N_369', 'N_469', 'N_569', 'N_570', 'N_468', 'N_467', 'N_466', 'N_566', 'N_666', 'N_667', 'N_565', 'N_567', 'N_568', 'N_370', 'N_371', 'N_470', 'N_269', 'N_169', 'N_69', 'N_70', 'N_71', 'N_171', 'N_271', 'N_270', 'N_72', 'N_73', 'N_74', 'N_174', 'N_75', 'N_175', 'N_275', 'N_276', 'N_274', 'N_374', 'N_375', 'N_474', 'N_574', 'N_573', 'N_575', 'N_475', 'N_576', 'N_676', 'N_675', 'N_674', 'N_774', 'N_775', 'N_875', 'N_874', 'N_974', 'N_873', 'N_973', 'N_872', 'N_76', 'N_176', 'N_77', 'N_177', 'N_277', 'N_278', 'N_178', 'N_179', 'N_180', 'N_181', 'N_81', 'N_82', 'N_80', 'N_79', 'N_279', 'N_78', 'N_377', 'N_378', 'N_376', 'N_476', 'N_477', 'N_577', 'N_578', 'N_579', 'N_580', 'N_480', 'N_479', 'N_379', 'N_380', 'N_280', 'N_281', 'N_282', 'N_283', 'N_183', 'N_182', 'N_83', 'N_184', 'N_84', 'N_85', 'N_185', 'N_186', 'N_86', 'N_286', 'N_386', 'N_287', 'N_187', 'N_87', 'N_88', 'N_89', 'N_189', 'N_90', 'N_190', 'N_191', 'N_291', 'N_391', 'N_491', 'N_392', 'N_393', 'N_493', 'N_492', 'N_592', 'N_290', 'N_91', 'N_92', 'N_192', 'N_292', 'N_93', 'N_193', 'N_293', 'N_94', 'N_194', 'N_95', 'N_195', 'N_96', 'N_196', 'N_296', 'N_97', 'N_197', 'N_198', 'N_298', 'N_98', 'N_99', 'N_199', 'N_299', 'N_399', 'N_398', 'N_397', 'N_297', 'N_396', 'N_395', 'N_295', 'N_294', 'N_394', 'N_494', 'N_497', 'N_496', 'N_596', 'N_597', 'N_498', 'N_598', 'N_499', 'N_599', 'N_188', 'N_288', 'N_388', 'N_488', 'N_588', 'N_389', 'N_489', 'N_490', 'N_390', 'N_289', 'N_285', 'N_385', 'N_284', 'N_381', 'N_481', 'N_679', 'N_680', 'N_681', 'N_682', 'N_582', 'N_482', 'N_382', 'N_383', 'N_384', 'N_484', 'N_485', 'N_585', 'N_685', 'N_785', 'N_584', 'N_684', 'N_683', 'N_783', 'N_782', 'N_882', 'N_982', 'N_983', 'N_781', 'N_881', 'N_780', 'N_779', 'N_879', 'N_880', 'N_778', 'N_878', 'N_877', 'N_876', 'N_976', 'N_975', 'N_977', 'N_978', 'N_979', 'N_980', 'N_981', 'N_776', 'N_777', 'N_883', 'N_884', 'N_885', 'N_984', 'N_985', 'N_986', 'N_987', 'N_784', 'N_486', 'N_586', 'N_686', 'N_687', 'N_587', 'N_487', 'N_387', 'N_688', 'N_788', 'N_888', 'N_889', 'N_989', 'N_988', 'N_789', 'N_790', 'N_791', 'N_691', 'N_591', 'N_590', 'N_690', 'N_692', 'N_693', 'N_593', 'N_694', 'N_794', 'N_894', 'N_795', 'N_695', 'N_696', 'N_697', 'N_698', 'N_798', 'N_898', 'N_699', 'N_799', 'N_899', 'N_595', 'N_495', 'N_796', 'N_896', 'N_897', 'N_997', 'N_998', 'N_999']\n",
            "\n"
          ]
        }
      ]
    },
    {
      "cell_type": "markdown",
      "source": [
        "**Heuristic Choices**\n",
        "\n",
        "The two heuristics I chose to evaluate were the Euclidean distance heuristic and Manhattan distance heuristic. It's important to note that a heuristic is considered admissible if it never overestimates the true cost to reach the goal from any given node.\n",
        "\n",
        "The Euclidean distance heuristic is based on the straight-line distance between two points. Since the distance will always be non-negative, and the straight line path will alwas be less than or equal to the actual path it takes to get to one point, we can conclude this heuristic is admissible.\n",
        "\n",
        "The Manhattan distance heuristic is based on the absolute horizontal and vertical differences ebtween two points on a graph. As you move any point away from the goal position, the Manhattan distance always increases or stays the same. This ensures it underestimates or matches the actual cost of moving across the grid one step at a time. Hence, we can also conclude that this heuristic is admissible.\n",
        "\n",
        "We see later that these heuristics helped the A* algorthm perform better than an uninformed search."
      ],
      "metadata": {
        "id": "XNb91H4JuQ9C"
      }
    },
    {
      "cell_type": "code",
      "source": [
        "def euclidean_heuristic(node, goal_node, coordinates):\n",
        "    x1, y1 = coordinates[node]\n",
        "    x2, y2 = coordinates[goal_node]\n",
        "    return ((x1 - x2)**2 + (y1 - y2)**2)**0.5\n",
        "\n",
        "def manhattan_heuristic(node, goal_node, coordinates):\n",
        "    x1, y1 = coordinates[node]\n",
        "    x2, y2 = coordinates[goal_node]\n",
        "    return abs(x1 - x2) + abs(y1 - y2)"
      ],
      "metadata": {
        "id": "VSqQ5ewfLw_L"
      },
      "execution_count": null,
      "outputs": []
    },
    {
      "cell_type": "markdown",
      "source": [
        "**A* Algorithm Implementation**\n",
        "\n",
        "I used the following video to help implement this algorithm: https://www.youtube.com/watch?v=mGu-T8zH574. The strategy behind the algorithm is to use a priority queue to store nodes along with their priority (the sum of the cost to reach the node g(n) and the heuristic estimate to the goal) and iterate through those nodes until you reach the goal node or the queue is empty. If you reach the goal, the algorithm reconstructs the optimal path from the goal to the start. For each neighbor of the current node, it calculates the new cost to reach that neighbor and updates the cost if the new cost is smaller. If updated, the neighbor is added to the queue along with the updated priority."
      ],
      "metadata": {
        "id": "605ZfzprVW6g"
      }
    },
    {
      "cell_type": "code",
      "source": [
        "def a_star(graph, start, goal, heuristic_func, coordinates):\n",
        "    priority_queue = [(0, start)]\n",
        "\n",
        "    g_values = {node: float('inf') for node in graph}\n",
        "    g_values[start] = 0\n",
        "\n",
        "    parents = {start: None}\n",
        "\n",
        "    while priority_queue:\n",
        "        current_cost, current_node = heapq.heappop(priority_queue)\n",
        "\n",
        "        if current_node == goal:\n",
        "            # Reconstruct the path from goal to start\n",
        "            path = []\n",
        "            while current_node is not None:\n",
        "                path.append(current_node)\n",
        "                current_node = parents[current_node]\n",
        "            return path[::-1]\n",
        "\n",
        "        for neighbor, edge_weight in graph[current_node]:\n",
        "            new_cost = g_values[current_node] + float(edge_weight)\n",
        "\n",
        "            if new_cost < g_values[neighbor]:\n",
        "                g_values[neighbor] = new_cost\n",
        "                priority = new_cost + heuristic_func(neighbor, goal, coordinates)\n",
        "                heapq.heappush(priority_queue, (priority, neighbor))\n",
        "                parents[neighbor] = current_node\n",
        "\n",
        "    return []"
      ],
      "metadata": {
        "id": "qJBr9-3MG1Wj"
      },
      "execution_count": null,
      "outputs": []
    },
    {
      "cell_type": "markdown",
      "source": [
        "**Results of A***\n",
        "\n",
        "Astonishingly enough, I got the same optimal path for both heuristics for all cases, which can mean two things.\n",
        "\n",
        "\n",
        "1.   There's something incorrect about my implementation (likely).\n",
        "2.   Since both heuristics are admissible, in some cases, both of them can return the same path for A. This is because A is guaranteed to find the shortest path, and if the we use two  admissible and consistent heuristics, they will sometimes lead to the same shortest path.\n",
        "\n",
        "I'm doubtful that 2 is the culprit for this abnormality. If we were working with a small dataset, the variability of optimal paths to take would be minimal, and it would be more likely to take the same path. But given the large test datasets, there could be a wider range of paths you can evaluate, and getting the same optimal path would be very unlikely. I've struggled to find the logical error in my A* implementation."
      ],
      "metadata": {
        "id": "9MsXov8ge5lX"
      }
    },
    {
      "cell_type": "code",
      "source": [
        "euclidean_path = a_star(graph_1, 'N_0', 'N_24', euclidean_heuristic, coor_1)\n",
        "manhattan_path = a_star(graph_1, 'N_0', 'N_24', manhattan_heuristic, coor_1)\n",
        "\n",
        "print(\"Path using Euclidean heuristic:\", euclidean_path)\n",
        "print(\"Path using Manhattan heuristic:\", manhattan_path)\n",
        "print()\n",
        "\n",
        "euclidean_path = a_star(graph_2, 'N_0', 'N_99', euclidean_heuristic, coor_2)\n",
        "manhattan_path = a_star(graph_2, 'N_0', 'N_99', manhattan_heuristic, coor_2)\n",
        "\n",
        "print(\"Path using Euclidean heuristic:\", euclidean_path)\n",
        "print(\"Path using Manhattan heuristic:\", manhattan_path)\n",
        "print()\n",
        "\n",
        "euclidean_path = a_star(graph_3, 'N_0', 'N_999', euclidean_heuristic, coor_3)\n",
        "manhattan_path = a_star(graph_3, 'N_0', 'N_999', manhattan_heuristic, coor_3)\n",
        "\n",
        "print(\"Path using Euclidean heuristic:\", euclidean_path)\n",
        "print(\"Path using Manhattan heuristic:\", manhattan_path)"
      ],
      "metadata": {
        "colab": {
          "base_uri": "https://localhost:8080/"
        },
        "id": "f_xsoJUzHE2t",
        "outputId": "6cb4f39a-f6c5-4c92-aca5-f6b5e6bf9c8f"
      },
      "execution_count": null,
      "outputs": [
        {
          "output_type": "stream",
          "name": "stdout",
          "text": [
            "Path using Euclidean heuristic: ['N_0', 'N_1', 'N_6', 'N_7', 'N_12', 'N_13', 'N_18', 'N_19', 'N_24']\n",
            "Path using Manhattan heuristic: ['N_0', 'N_1', 'N_6', 'N_7', 'N_12', 'N_13', 'N_18', 'N_19', 'N_24']\n",
            "\n",
            "Path using Euclidean heuristic: ['N_0', 'N_10', 'N_11', 'N_1', 'N_2', 'N_3', 'N_13', 'N_23', 'N_24', 'N_34', 'N_35', 'N_36', 'N_46', 'N_56', 'N_57', 'N_67', 'N_68', 'N_78', 'N_79', 'N_89', 'N_99']\n",
            "Path using Manhattan heuristic: ['N_0', 'N_10', 'N_11', 'N_1', 'N_2', 'N_3', 'N_13', 'N_23', 'N_24', 'N_34', 'N_35', 'N_36', 'N_46', 'N_56', 'N_57', 'N_67', 'N_68', 'N_78', 'N_79', 'N_89', 'N_99']\n",
            "\n",
            "Path using Euclidean heuristic: ['N_0', 'N_100', 'N_200', 'N_300', 'N_301', 'N_302', 'N_402', 'N_502', 'N_602', 'N_603', 'N_503', 'N_403', 'N_303', 'N_203', 'N_204', 'N_205', 'N_206', 'N_207', 'N_107', 'N_108', 'N_109', 'N_110', 'N_111', 'N_112', 'N_212', 'N_213', 'N_113', 'N_114', 'N_115', 'N_116', 'N_117', 'N_17', 'N_18', 'N_19', 'N_20', 'N_21', 'N_121', 'N_122', 'N_123', 'N_124', 'N_125', 'N_225', 'N_226', 'N_126', 'N_127', 'N_227', 'N_228', 'N_128', 'N_129', 'N_130', 'N_230', 'N_330', 'N_331', 'N_332', 'N_333', 'N_233', 'N_234', 'N_235', 'N_135', 'N_35', 'N_36', 'N_37', 'N_38', 'N_138', 'N_139', 'N_140', 'N_40', 'N_41', 'N_42', 'N_142', 'N_242', 'N_243', 'N_244', 'N_144', 'N_145', 'N_45', 'N_46', 'N_146', 'N_147', 'N_148', 'N_149', 'N_249', 'N_349', 'N_449', 'N_450', 'N_550', 'N_551', 'N_451', 'N_351', 'N_352', 'N_252', 'N_253', 'N_153', 'N_53', 'N_54', 'N_55', 'N_155', 'N_156', 'N_157', 'N_158', 'N_159', 'N_59', 'N_60', 'N_61', 'N_62', 'N_162', 'N_163', 'N_164', 'N_165', 'N_65', 'N_66', 'N_67', 'N_167', 'N_168', 'N_169', 'N_69', 'N_70', 'N_71', 'N_72', 'N_73', 'N_74', 'N_75', 'N_76', 'N_77', 'N_177', 'N_277', 'N_377', 'N_376', 'N_476', 'N_477', 'N_577', 'N_578', 'N_579', 'N_679', 'N_680', 'N_681', 'N_682', 'N_582', 'N_482', 'N_382', 'N_383', 'N_384', 'N_484', 'N_485', 'N_486', 'N_586', 'N_686', 'N_687', 'N_688', 'N_788', 'N_789', 'N_790', 'N_791', 'N_691', 'N_692', 'N_693', 'N_694', 'N_794', 'N_795', 'N_796', 'N_896', 'N_897', 'N_997', 'N_998', 'N_999']\n",
            "Path using Manhattan heuristic: ['N_0', 'N_100', 'N_200', 'N_300', 'N_301', 'N_302', 'N_402', 'N_502', 'N_602', 'N_603', 'N_503', 'N_403', 'N_303', 'N_203', 'N_204', 'N_205', 'N_206', 'N_207', 'N_107', 'N_108', 'N_109', 'N_110', 'N_111', 'N_112', 'N_212', 'N_213', 'N_113', 'N_114', 'N_115', 'N_116', 'N_117', 'N_17', 'N_18', 'N_19', 'N_20', 'N_21', 'N_121', 'N_122', 'N_123', 'N_124', 'N_125', 'N_225', 'N_226', 'N_126', 'N_127', 'N_227', 'N_228', 'N_128', 'N_129', 'N_130', 'N_230', 'N_330', 'N_331', 'N_332', 'N_333', 'N_233', 'N_234', 'N_235', 'N_135', 'N_35', 'N_36', 'N_37', 'N_38', 'N_138', 'N_139', 'N_140', 'N_40', 'N_41', 'N_42', 'N_142', 'N_242', 'N_243', 'N_244', 'N_144', 'N_145', 'N_45', 'N_46', 'N_146', 'N_147', 'N_148', 'N_149', 'N_249', 'N_349', 'N_449', 'N_450', 'N_550', 'N_551', 'N_451', 'N_351', 'N_352', 'N_252', 'N_253', 'N_153', 'N_53', 'N_54', 'N_55', 'N_155', 'N_156', 'N_157', 'N_158', 'N_159', 'N_59', 'N_60', 'N_61', 'N_62', 'N_162', 'N_163', 'N_164', 'N_165', 'N_65', 'N_66', 'N_67', 'N_167', 'N_168', 'N_169', 'N_69', 'N_70', 'N_71', 'N_72', 'N_73', 'N_74', 'N_75', 'N_76', 'N_77', 'N_177', 'N_277', 'N_377', 'N_376', 'N_476', 'N_477', 'N_577', 'N_578', 'N_579', 'N_679', 'N_680', 'N_681', 'N_682', 'N_582', 'N_482', 'N_382', 'N_383', 'N_384', 'N_484', 'N_485', 'N_486', 'N_586', 'N_686', 'N_687', 'N_688', 'N_788', 'N_789', 'N_790', 'N_791', 'N_691', 'N_692', 'N_693', 'N_694', 'N_794', 'N_795', 'N_796', 'N_896', 'N_897', 'N_997', 'N_998', 'N_999']\n"
          ]
        }
      ]
    },
    {
      "cell_type": "markdown",
      "source": [
        "**Uninformed vs. Informed search results**\n",
        "\n",
        "I've decided to use the time taken to find a solution as my success metric. From an execution time perspective, it seems like uninformed search algorithms were outperforming the informed search algorithm, MARGINALLY. In all 3 test sets, both BFS and DFS were faster than A*. This is a strange result, considering that BFS and DFS are blind to any information other than the node's edge weights so they expand every possible node to lead to the goal, which would lead to longer execution times. To explain this, as I mentioned earlier in my report, there may be something wrong with the implementation of the A star algorithm, which could be misleading the search.\n",
        "\n",
        "It is also worthy to note that while the execution times are a little misleading, the list results from the A star algorithm show a drastic improvement. We see that while using the A star algorithm, the nodes that it visits to reach the goal is significantly less than the number nodes that it takes to reach the goal for an uninformed search, which is an expected behavior (The Euclidean and Manhattan heuristics work!).\n",
        "\n",
        "In this given scenario, I would say since the time differences are very negligible for each growth in problem size and it yields very good traversals, I would conclude that the A* algorithm is suitable for this problem."
      ],
      "metadata": {
        "id": "sqDah7z15R1o"
      }
    },
    {
      "cell_type": "code",
      "source": [
        "def compare_algorithms(graph, start, goal, coordinates):\n",
        "    bfs_time, dfs_time, a_star_euclidean_time, a_star_manhattan_time = 0, 0, 0, 0\n",
        "\n",
        "    start_time = time.time()\n",
        "    bfs(graph, start, goal)\n",
        "    bfs_time = time.time() - start_time\n",
        "\n",
        "    start_time = time.time()\n",
        "    dfs(graph, start, goal)\n",
        "    dfs_time = time.time() - start_time\n",
        "\n",
        "    start_time = time.time()\n",
        "    a_star(graph, start, goal, euclidean_heuristic, coordinates)\n",
        "    a_star_euclidean_time = time.time() - start_time\n",
        "\n",
        "    start_time = time.time()\n",
        "    a_star(graph, start, goal, manhattan_heuristic, coordinates)\n",
        "    a_star_manhattan_time = time.time() - start_time\n",
        "\n",
        "    print(\"BFS time:\", bfs_time)\n",
        "    print(\"DFS time:\", dfs_time)\n",
        "    print(\"A* time (Euclidean):\", a_star_euclidean_time)\n",
        "    print(\"A* time (Manhattan):\", a_star_manhattan_time)\n",
        "\n",
        "compare_algorithms(graph_1, 'N_0', 'N_24', coor_1)\n",
        "print()\n",
        "compare_algorithms(graph_2, 'N_0', 'N_99', coor_2)\n",
        "print()\n",
        "compare_algorithms(graph_3, 'N_0', 'N_999', coor_3)\n"
      ],
      "metadata": {
        "colab": {
          "base_uri": "https://localhost:8080/"
        },
        "id": "l8NimSI05a3T",
        "outputId": "f32986a7-4433-4eab-9a05-8beaa27a3607"
      },
      "execution_count": null,
      "outputs": [
        {
          "output_type": "stream",
          "name": "stdout",
          "text": [
            "BFS time: 5.0067901611328125e-05\n",
            "DFS time: 2.7418136596679688e-05\n",
            "A* time (Euclidean): 9.369850158691406e-05\n",
            "A* time (Manhattan): 5.984306335449219e-05\n",
            "\n",
            "BFS time: 0.00011897087097167969\n",
            "DFS time: 0.00012445449829101562\n",
            "A* time (Euclidean): 0.00016236305236816406\n",
            "A* time (Manhattan): 9.441375732421875e-05\n",
            "\n",
            "BFS time: 0.0009238719940185547\n",
            "DFS time: 0.0021338462829589844\n",
            "A* time (Euclidean): 0.004980325698852539\n",
            "A* time (Manhattan): 0.0019664764404296875\n"
          ]
        }
      ]
    }
  ]
}