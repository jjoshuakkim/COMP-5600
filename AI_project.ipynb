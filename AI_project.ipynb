{
  "cells": [
    {
      "cell_type": "markdown",
      "metadata": {
        "id": "view-in-github",
        "colab_type": "text"
      },
      "source": [
        "<a href=\"https://colab.research.google.com/github/jjoshuakkim/COMP-5600/blob/main/AI_project.ipynb\" target=\"_parent\"><img src=\"https://colab.research.google.com/assets/colab-badge.svg\" alt=\"Open In Colab\"/></a>"
      ]
    },
    {
      "cell_type": "markdown",
      "metadata": {
        "id": "BMhhZ4dEpsaS"
      },
      "source": [
        "Downloading dependencies"
      ]
    },
    {
      "cell_type": "code",
      "execution_count": 3,
      "metadata": {
        "id": "wZAFChqMt0iM"
      },
      "outputs": [],
      "source": [
        "!pip install datasets transformers pandas matplotlib tqdm --upgrade --quiet > /dev/null 2>&1\n",
        "!pip install transformers > /dev/null 2>&1\n",
        "!pip install evaluate > /dev/null 2>&1"
      ]
    },
    {
      "cell_type": "markdown",
      "source": [
        "Parsing dataset"
      ],
      "metadata": {
        "id": "14oWOytgFlUK"
      }
    },
    {
      "cell_type": "code",
      "execution_count": 16,
      "metadata": {
        "id": "ahOy96Ng0DLZ",
        "colab": {
          "base_uri": "https://localhost:8080/",
          "height": 49,
          "referenced_widgets": [
            "f32308687e0c4e719369cca5f16b6c6a",
            "788a98898cbb4ccdb779b15f9a1509a6",
            "888cd2e981fa45e7beba3393b71733c4",
            "90394fd051b84ea281448ed859db7e37",
            "67ef47b5a05b4fb8b0d8730a5860f666",
            "6d11cd764c3e44058e424175f50a854a",
            "a41defc6bf2e46a0a0a2b6091be81a91",
            "9b154cc47699405c99909f54dba2be75",
            "e80419ac1ce24eaabb8557ac637c06aa",
            "5168e89042584c20a295e1d2938ad502",
            "9e10627cd3474bcebbfabd7ea80ff2c3"
          ]
        },
        "outputId": "16d99512-1202-4af2-f7b4-c3676e7c41bf"
      },
      "outputs": [
        {
          "output_type": "display_data",
          "data": {
            "text/plain": [
              "Map:   0%|          | 0/5426 [00:00<?, ? examples/s]"
            ],
            "application/vnd.jupyter.widget-view+json": {
              "version_major": 2,
              "version_minor": 0,
              "model_id": "f32308687e0c4e719369cca5f16b6c6a"
            }
          },
          "metadata": {}
        }
      ],
      "source": [
        "from datasets import load_dataset\n",
        "from transformers import AutoTokenizer\n",
        "from transformers import DataCollatorWithPadding\n",
        "import evaluate\n",
        "import pandas as pd\n",
        "\n",
        "dataset = load_dataset(\"go_emotions\", \"simplified\")\n",
        "tokenizer = AutoTokenizer.from_pretrained(\"bert-base-uncased\")\n",
        "\n",
        "def tokenize_function(examples):\n",
        "   return tokenizer(examples[\"text\"], padding=\"max_length\", truncation=True)\n",
        "\n",
        "tokenized_datasets = dataset.map(tokenize_function, batched=True)\n",
        "\n",
        "train_df = pd.DataFrame(dataset['train'])\n",
        "test_df = pd.DataFrame(dataset['test'])\n",
        "validation_df = pd.DataFrame(dataset['validation'])"
      ]
    },
    {
      "cell_type": "markdown",
      "metadata": {
        "id": "lm_R-NqV0_eO"
      },
      "source": [
        "Preprocess the text data by converting it to a numerical representation using a CountVectorizer"
      ]
    },
    {
      "cell_type": "code",
      "execution_count": 17,
      "metadata": {
        "id": "nv19n9ns1Edg"
      },
      "outputs": [],
      "source": [
        "from sklearn.feature_extraction.text import CountVectorizer\n",
        "vectorizer = CountVectorizer()\n",
        "X_train = vectorizer.fit_transform(train_df['text'])\n",
        "X_test = vectorizer.transform(test_df['text'])\n",
        "X_val = vectorizer.fit_transform(validation_df['text'])\n",
        "y_train = train_df['labels']\n",
        "y_test = test_df['labels']\n",
        "y_val = validation_df['labels']"
      ]
    },
    {
      "cell_type": "markdown",
      "metadata": {
        "id": "9X3SYrAq2M0T"
      },
      "source": [
        "Training the logistic regression model"
      ]
    },
    {
      "cell_type": "code",
      "execution_count": 6,
      "metadata": {
        "id": "8tJz0REL2PZP",
        "colab": {
          "base_uri": "https://localhost:8080/",
          "height": 214
        },
        "outputId": "3c9e60c5-9cc1-4eaa-82ff-eecfa0be61b7"
      },
      "outputs": [
        {
          "output_type": "stream",
          "name": "stderr",
          "text": [
            "/usr/local/lib/python3.10/dist-packages/sklearn/linear_model/_logistic.py:458: ConvergenceWarning: lbfgs failed to converge (status=1):\n",
            "STOP: TOTAL NO. of ITERATIONS REACHED LIMIT.\n",
            "\n",
            "Increase the number of iterations (max_iter) or scale the data as shown in:\n",
            "    https://scikit-learn.org/stable/modules/preprocessing.html\n",
            "Please also refer to the documentation for alternative solver options:\n",
            "    https://scikit-learn.org/stable/modules/linear_model.html#logistic-regression\n",
            "  n_iter_i = _check_optimize_result(\n"
          ]
        },
        {
          "output_type": "execute_result",
          "data": {
            "text/plain": [
              "LogisticRegression(max_iter=200)"
            ],
            "text/html": [
              "<style>#sk-container-id-1 {color: black;background-color: white;}#sk-container-id-1 pre{padding: 0;}#sk-container-id-1 div.sk-toggleable {background-color: white;}#sk-container-id-1 label.sk-toggleable__label {cursor: pointer;display: block;width: 100%;margin-bottom: 0;padding: 0.3em;box-sizing: border-box;text-align: center;}#sk-container-id-1 label.sk-toggleable__label-arrow:before {content: \"▸\";float: left;margin-right: 0.25em;color: #696969;}#sk-container-id-1 label.sk-toggleable__label-arrow:hover:before {color: black;}#sk-container-id-1 div.sk-estimator:hover label.sk-toggleable__label-arrow:before {color: black;}#sk-container-id-1 div.sk-toggleable__content {max-height: 0;max-width: 0;overflow: hidden;text-align: left;background-color: #f0f8ff;}#sk-container-id-1 div.sk-toggleable__content pre {margin: 0.2em;color: black;border-radius: 0.25em;background-color: #f0f8ff;}#sk-container-id-1 input.sk-toggleable__control:checked~div.sk-toggleable__content {max-height: 200px;max-width: 100%;overflow: auto;}#sk-container-id-1 input.sk-toggleable__control:checked~label.sk-toggleable__label-arrow:before {content: \"▾\";}#sk-container-id-1 div.sk-estimator input.sk-toggleable__control:checked~label.sk-toggleable__label {background-color: #d4ebff;}#sk-container-id-1 div.sk-label input.sk-toggleable__control:checked~label.sk-toggleable__label {background-color: #d4ebff;}#sk-container-id-1 input.sk-hidden--visually {border: 0;clip: rect(1px 1px 1px 1px);clip: rect(1px, 1px, 1px, 1px);height: 1px;margin: -1px;overflow: hidden;padding: 0;position: absolute;width: 1px;}#sk-container-id-1 div.sk-estimator {font-family: monospace;background-color: #f0f8ff;border: 1px dotted black;border-radius: 0.25em;box-sizing: border-box;margin-bottom: 0.5em;}#sk-container-id-1 div.sk-estimator:hover {background-color: #d4ebff;}#sk-container-id-1 div.sk-parallel-item::after {content: \"\";width: 100%;border-bottom: 1px solid gray;flex-grow: 1;}#sk-container-id-1 div.sk-label:hover label.sk-toggleable__label {background-color: #d4ebff;}#sk-container-id-1 div.sk-serial::before {content: \"\";position: absolute;border-left: 1px solid gray;box-sizing: border-box;top: 0;bottom: 0;left: 50%;z-index: 0;}#sk-container-id-1 div.sk-serial {display: flex;flex-direction: column;align-items: center;background-color: white;padding-right: 0.2em;padding-left: 0.2em;position: relative;}#sk-container-id-1 div.sk-item {position: relative;z-index: 1;}#sk-container-id-1 div.sk-parallel {display: flex;align-items: stretch;justify-content: center;background-color: white;position: relative;}#sk-container-id-1 div.sk-item::before, #sk-container-id-1 div.sk-parallel-item::before {content: \"\";position: absolute;border-left: 1px solid gray;box-sizing: border-box;top: 0;bottom: 0;left: 50%;z-index: -1;}#sk-container-id-1 div.sk-parallel-item {display: flex;flex-direction: column;z-index: 1;position: relative;background-color: white;}#sk-container-id-1 div.sk-parallel-item:first-child::after {align-self: flex-end;width: 50%;}#sk-container-id-1 div.sk-parallel-item:last-child::after {align-self: flex-start;width: 50%;}#sk-container-id-1 div.sk-parallel-item:only-child::after {width: 0;}#sk-container-id-1 div.sk-dashed-wrapped {border: 1px dashed gray;margin: 0 0.4em 0.5em 0.4em;box-sizing: border-box;padding-bottom: 0.4em;background-color: white;}#sk-container-id-1 div.sk-label label {font-family: monospace;font-weight: bold;display: inline-block;line-height: 1.2em;}#sk-container-id-1 div.sk-label-container {text-align: center;}#sk-container-id-1 div.sk-container {/* jupyter's `normalize.less` sets `[hidden] { display: none; }` but bootstrap.min.css set `[hidden] { display: none !important; }` so we also need the `!important` here to be able to override the default hidden behavior on the sphinx rendered scikit-learn.org. See: https://github.com/scikit-learn/scikit-learn/issues/21755 */display: inline-block !important;position: relative;}#sk-container-id-1 div.sk-text-repr-fallback {display: none;}</style><div id=\"sk-container-id-1\" class=\"sk-top-container\"><div class=\"sk-text-repr-fallback\"><pre>LogisticRegression(max_iter=200)</pre><b>In a Jupyter environment, please rerun this cell to show the HTML representation or trust the notebook. <br />On GitHub, the HTML representation is unable to render, please try loading this page with nbviewer.org.</b></div><div class=\"sk-container\" hidden><div class=\"sk-item\"><div class=\"sk-estimator sk-toggleable\"><input class=\"sk-toggleable__control sk-hidden--visually\" id=\"sk-estimator-id-1\" type=\"checkbox\" checked><label for=\"sk-estimator-id-1\" class=\"sk-toggleable__label sk-toggleable__label-arrow\">LogisticRegression</label><div class=\"sk-toggleable__content\"><pre>LogisticRegression(max_iter=200)</pre></div></div></div></div></div>"
            ]
          },
          "metadata": {},
          "execution_count": 6
        }
      ],
      "source": [
        "from sklearn.linear_model import LogisticRegression\n",
        "from sklearn.preprocessing import MultiLabelBinarizer\n",
        "import numpy as np\n",
        "\n",
        "# Convert multi-label format to binary array format\n",
        "mlb = MultiLabelBinarizer()\n",
        "y_train_binary = mlb.fit_transform(train_df['labels'])\n",
        "y_train_binary_flat = np.argmax(y_train_binary, axis=1)\n",
        "y_test_binary = mlb.transform(test_df['labels'])\n",
        "y_test_binary_flat = np.argmax(y_test_binary, axis=1)\n",
        "\n",
        "model = LogisticRegression(max_iter=200)\n",
        "model.fit(X_train, y_train_binary_flat)"
      ]
    },
    {
      "cell_type": "markdown",
      "metadata": {
        "id": "OQi-fAlvppLV"
      },
      "source": [
        "Classification Report"
      ]
    },
    {
      "cell_type": "code",
      "execution_count": 7,
      "metadata": {
        "id": "ZGY-ruHY81ov",
        "colab": {
          "base_uri": "https://localhost:8080/"
        },
        "outputId": "d4a8643b-43da-4367-b533-c0a89730a618"
      },
      "outputs": [
        {
          "output_type": "stream",
          "name": "stdout",
          "text": [
            "Logistic Regression Results:\n",
            "\n",
            "              precision    recall  f1-score   support\n",
            "\n",
            "           0       0.59      0.59      0.59       504\n",
            "           1       0.73      0.77      0.75       252\n",
            "           2       0.49      0.35      0.40       197\n",
            "           3       0.30      0.15      0.20       286\n",
            "           4       0.32      0.21      0.25       318\n",
            "           5       0.33      0.19      0.24       114\n",
            "           6       0.33      0.22      0.26       139\n",
            "           7       0.32      0.14      0.19       233\n",
            "           8       0.53      0.24      0.33        74\n",
            "           9       0.33      0.14      0.20       127\n",
            "          10       0.25      0.13      0.17       220\n",
            "          11       0.53      0.36      0.43        84\n",
            "          12       0.33      0.13      0.19        30\n",
            "          13       0.38      0.27      0.32        84\n",
            "          14       0.76      0.57      0.65        74\n",
            "          15       0.78      0.84      0.81       288\n",
            "          16       1.00      0.17      0.29         6\n",
            "          17       0.51      0.41      0.45       116\n",
            "          18       0.63      0.67      0.65       169\n",
            "          19       0.50      0.12      0.20        16\n",
            "          20       0.54      0.41      0.46       120\n",
            "          21       1.00      0.12      0.22         8\n",
            "          22       0.34      0.11      0.17       109\n",
            "          23       0.00      0.00      0.00         7\n",
            "          24       0.54      0.67      0.60        46\n",
            "          25       0.51      0.33      0.40       108\n",
            "          26       0.32      0.26      0.29        92\n",
            "          27       0.49      0.80      0.61      1606\n",
            "\n",
            "    accuracy                           0.51      5427\n",
            "   macro avg       0.49      0.34      0.37      5427\n",
            "weighted avg       0.48      0.51      0.47      5427\n",
            "\n"
          ]
        }
      ],
      "source": [
        "from sklearn.metrics import classification_report\n",
        "\n",
        "y_pred_binary = model.predict(X_test)\n",
        "\n",
        "print(\"Logistic Regression Results:\")\n",
        "print()\n",
        "report = classification_report(y_test_binary_flat, y_pred_binary)\n",
        "print(report)"
      ]
    },
    {
      "cell_type": "markdown",
      "source": [
        "LR Training Loss Curve"
      ],
      "metadata": {
        "id": "t4eeE6FZ8uyz"
      }
    },
    {
      "cell_type": "code",
      "execution_count": 15,
      "metadata": {
        "id": "ySzJElRMsYpX",
        "colab": {
          "base_uri": "https://localhost:8080/",
          "height": 646
        },
        "outputId": "4bce7d45-05c5-4185-b70c-564bf90bf940"
      },
      "outputs": [
        {
          "output_type": "stream",
          "name": "stdout",
          "text": [
            "Epoch 1, Loss: 1.4129047041226144\n",
            "Epoch 2, Loss: 1.4129047041226144\n",
            "Epoch 3, Loss: 1.4129047041226144\n",
            "Epoch 4, Loss: 1.4129047041226144\n",
            "Epoch 5, Loss: 1.4129047041226144\n",
            "Epoch 6, Loss: 1.4129047041226144\n",
            "Epoch 7, Loss: 1.4129047041226144\n",
            "Epoch 8, Loss: 1.4129047041226144\n",
            "Epoch 9, Loss: 1.4129047041226144\n",
            "Epoch 10, Loss: 1.4129047041226144\n"
          ]
        },
        {
          "output_type": "display_data",
          "data": {
            "text/plain": [
              "<Figure size 640x480 with 1 Axes>"
            ],
            "image/png": "[encoded data removed]"
          },
          "metadata": {}
        }
      ],
      "source": [
        "from sklearn.feature_extraction.text import TfidfVectorizer\n",
        "import warnings\n",
        "import matplotlib.pyplot as plt\n",
        "\n",
        "warnings.filterwarnings(\"ignore\", category=UserWarning)\n",
        "tfidf_vectorizer = TfidfVectorizer()\n",
        "\n",
        "X_train_tfidf = tfidf_vectorizer.fit_transform(train_df['text'])\n",
        "X_test_tfidf = tfidf_vectorizer.transform(test_df['text'])\n",
        "\n",
        "# Train logistic regression model\n",
        "model = LogisticRegression(max_iter=200)\n",
        "losses = []\n",
        "\n",
        "for epoch in range(10):  # Assuming 10 epochs\n",
        "    # Fit the model for one epoch\n",
        "    model.fit(X_train_tfidf, y_train_binary_flat)\n",
        "\n",
        "    # Compute loss\n",
        "    y_pred_proba = model.predict_proba(X_train_tfidf)\n",
        "    loss = -np.mean(np.log(y_pred_proba[np.arange(len(y_train)), y_train_binary_flat]))\n",
        "    losses.append(loss)\n",
        "\n",
        "    print(f\"Epoch {epoch + 1}, Loss: {loss}\")\n",
        "\n",
        "plt.plot(losses, label='Training Loss')\n",
        "plt.xlabel('Epoch')\n",
        "plt.ylabel('Loss')\n",
        "plt.title('Training Loss Curve')\n",
        "plt.legend()\n",
        "plt.show()"
      ]
    },
    {
      "cell_type": "markdown",
      "source": [
        "Multi-Layer Perceptron"
      ],
      "metadata": {
        "id": "Pcnj_tUT9P3f"
      }
    },
    {
      "cell_type": "code",
      "execution_count": 9,
      "metadata": {
        "id": "4ktJeAn3czpM",
        "colab": {
          "base_uri": "https://localhost:8080/",
          "height": 1000
        },
        "outputId": "b36959c0-2df2-424a-c0bd-8fc9f84eaff7"
      },
      "outputs": [
        {
          "output_type": "stream",
          "name": "stderr",
          "text": [
            "  0%|          | 0/200 [00:00<?, ?iter/s]/usr/local/lib/python3.10/dist-packages/sklearn/neural_network/_multilayer_perceptron.py:693: UserWarning: Training interrupted by user.\n",
            "  warnings.warn(\"Training interrupted by user.\")\n",
            "  0%|          | 0/200 [1:59:09<?, ?iter/s]\n"
          ]
        },
        {
          "output_type": "stream",
          "name": "stdout",
          "text": [
            "MLP Results:\n",
            "\n",
            "              precision    recall  f1-score   support\n",
            "\n",
            "           0       0.58      0.54      0.56       504\n",
            "           1       0.66      0.67      0.67       252\n",
            "           2       0.33      0.35      0.34       197\n",
            "           3       0.18      0.21      0.19       286\n",
            "           4       0.25      0.22      0.24       318\n",
            "           5       0.17      0.24      0.20       114\n",
            "           6       0.21      0.24      0.22       139\n",
            "           7       0.18      0.18      0.18       233\n",
            "           8       0.35      0.19      0.25        74\n",
            "           9       0.15      0.14      0.14       127\n",
            "          10       0.17      0.15      0.16       220\n",
            "          11       0.41      0.29      0.34        84\n",
            "          12       0.32      0.23      0.27        30\n",
            "          13       0.35      0.31      0.33        84\n",
            "          14       0.57      0.49      0.53        74\n",
            "          15       0.81      0.72      0.76       288\n",
            "          16       0.25      0.17      0.20         6\n",
            "          17       0.31      0.30      0.30       116\n",
            "          18       0.50      0.57      0.53       169\n",
            "          19       0.33      0.19      0.24        16\n",
            "          20       0.32      0.35      0.34       120\n",
            "          21       0.12      0.12      0.12         8\n",
            "          22       0.15      0.13      0.14       109\n",
            "          23       0.00      0.00      0.00         7\n",
            "          24       0.42      0.33      0.37        46\n",
            "          25       0.33      0.35      0.34       108\n",
            "          26       0.26      0.22      0.24        92\n",
            "          27       0.49      0.53      0.51      1606\n",
            "\n",
            "    accuracy                           0.41      5427\n",
            "   macro avg       0.33      0.30      0.31      5427\n",
            "weighted avg       0.41      0.41      0.41      5427\n",
            "\n"
          ]
        },
        {
          "output_type": "display_data",
          "data": {
            "text/plain": [
              "<Figure size 640x480 with 1 Axes>"
            ],
            "image/png": "[encoded data removed]"
          },
          "metadata": {}
        }
      ],
      "source": [
        "from sklearn.neural_network import MLPClassifier\n",
        "from tqdm import tqdm\n",
        "\n",
        "# Create the MLP Classifier\n",
        "mlp_model = MLPClassifier(hidden_layer_sizes=(100, 50), max_iter=200, batch_size=64, activation='relu', solver='adam', alpha=0.001, random_state=42)\n",
        "\n",
        "# Train the MLPClassifier with a progress bar\n",
        "with tqdm(total=200, unit=\"iter\") as pbar:\n",
        "    mlp_model.fit(X_train, y_train_binary_flat)\n",
        "\n",
        "# Predictions on the test set\n",
        "y_pred = mlp_model.predict(X_test)\n",
        "\n",
        "# Generate classification report\n",
        "print(\"MLP Results:\")\n",
        "print()\n",
        "report = classification_report(y_test_binary_flat, y_pred)\n",
        "print(report)\n",
        "\n",
        "# Plotting the loss curve\n",
        "plt.plot(mlp_model.loss_curve_)\n",
        "plt.title('MLP Training Loss Curve')\n",
        "plt.xlabel('Epochs')\n",
        "plt.ylabel('Loss')\n",
        "plt.show()"
      ]
    }
  ],
  "metadata": {
    "colab": {
      "provenance": [],
      "include_colab_link": true
    },
    "kernelspec": {
      "display_name": "Python 3",
      "name": "python3"
    },
    "language_info": {
      "name": "python"
    },
    "widgets": {
      "application/vnd.jupyter.widget-state+json": {
        "f32308687e0c4e719369cca5f16b6c6a": {
          "model_module": "@jupyter-widgets/controls",
          "model_name": "HBoxModel",
          "model_module_version": "1.5.0",
          "state": {
            "_dom_classes": [],
            "_model_module": "@jupyter-widgets/controls",
            "_model_module_version": "1.5.0",
            "_model_name": "HBoxModel",
            "_view_count": null,
            "_view_module": "@jupyter-widgets/controls",
            "_view_module_version": "1.5.0",
            "_view_name": "HBoxView",
            "box_style": "",
            "children": [
              "IPY_MODEL_788a98898cbb4ccdb779b15f9a1509a6",
              "IPY_MODEL_888cd2e981fa45e7beba3393b71733c4",
              "IPY_MODEL_90394fd051b84ea281448ed859db7e37"
            ],
            "layout": "IPY_MODEL_67ef47b5a05b4fb8b0d8730a5860f666"
          }
        },
        "788a98898cbb4ccdb779b15f9a1509a6": {
          "model_module": "@jupyter-widgets/controls",
          "model_name": "HTMLModel",
          "model_module_version": "1.5.0",
          "state": {
            "_dom_classes": [],
            "_model_module": "@jupyter-widgets/controls",
            "_model_module_version": "1.5.0",
            "_model_name": "HTMLModel",
            "_view_count": null,
            "_view_module": "@jupyter-widgets/controls",
            "_view_module_version": "1.5.0",
            "_view_name": "HTMLView",
            "description": "",
            "description_tooltip": null,
            "layout": "IPY_MODEL_6d11cd764c3e44058e424175f50a854a",
            "placeholder": "​",
            "style": "IPY_MODEL_a41defc6bf2e46a0a0a2b6091be81a91",
            "value": "Map: 100%"
          }
        },
        "888cd2e981fa45e7beba3393b71733c4": {
          "model_module": "@jupyter-widgets/controls",
          "model_name": "FloatProgressModel",
          "model_module_version": "1.5.0",
          "state": {
            "_dom_classes": [],
            "_model_module": "@jupyter-widgets/controls",
            "_model_module_version": "1.5.0",
            "_model_name": "FloatProgressModel",
            "_view_count": null,
            "_view_module": "@jupyter-widgets/controls",
            "_view_module_version": "1.5.0",
            "_view_name": "ProgressView",
            "bar_style": "success",
            "description": "",
            "description_tooltip": null,
            "layout": "IPY_MODEL_9b154cc47699405c99909f54dba2be75",
            "max": 5426,
            "min": 0,
            "orientation": "horizontal",
            "style": "IPY_MODEL_e80419ac1ce24eaabb8557ac637c06aa",
            "value": 5426
          }
        },
        "90394fd051b84ea281448ed859db7e37": {
          "model_module": "@jupyter-widgets/controls",
          "model_name": "HTMLModel",
          "model_module_version": "1.5.0",
          "state": {
            "_dom_classes": [],
            "_model_module": "@jupyter-widgets/controls",
            "_model_module_version": "1.5.0",
            "_model_name": "HTMLModel",
            "_view_count": null,
            "_view_module": "@jupyter-widgets/controls",
            "_view_module_version": "1.5.0",
            "_view_name": "HTMLView",
            "description": "",
            "description_tooltip": null,
            "layout": "IPY_MODEL_5168e89042584c20a295e1d2938ad502",
            "placeholder": "​",
            "style": "IPY_MODEL_9e10627cd3474bcebbfabd7ea80ff2c3",
            "value": " 5426/5426 [00:06&lt;00:00, 1046.87 examples/s]"
          }
        },
        "67ef47b5a05b4fb8b0d8730a5860f666": {
          "model_module": "@jupyter-widgets/base",
          "model_name": "LayoutModel",
          "model_module_version": "1.2.0",
          "state": {
            "_model_module": "@jupyter-widgets/base",
            "_model_module_version": "1.2.0",
            "_model_name": "LayoutModel",
            "_view_count": null,
            "_view_module": "@jupyter-widgets/base",
            "_view_module_version": "1.2.0",
            "_view_name": "LayoutView",
            "align_content": null,
            "align_items": null,
            "align_self": null,
            "border": null,
            "bottom": null,
            "display": null,
            "flex": null,
            "flex_flow": null,
            "grid_area": null,
            "grid_auto_columns": null,
            "grid_auto_flow": null,
            "grid_auto_rows": null,
            "grid_column": null,
            "grid_gap": null,
            "grid_row": null,
            "grid_template_areas": null,
            "grid_template_columns": null,
            "grid_template_rows": null,
            "height": null,
            "justify_content": null,
            "justify_items": null,
            "left": null,
            "margin": null,
            "max_height": null,
            "max_width": null,
            "min_height": null,
            "min_width": null,
            "object_fit": null,
            "object_position": null,
            "order": null,
            "overflow": null,
            "overflow_x": null,
            "overflow_y": null,
            "padding": null,
            "right": null,
            "top": null,
            "visibility": null,
            "width": null
          }
        },
        "6d11cd764c3e44058e424175f50a854a": {
          "model_module": "@jupyter-widgets/base",
          "model_name": "LayoutModel",
          "model_module_version": "1.2.0",
          "state": {
            "_model_module": "@jupyter-widgets/base",
            "_model_module_version": "1.2.0",
            "_model_name": "LayoutModel",
            "_view_count": null,
            "_view_module": "@jupyter-widgets/base",
            "_view_module_version": "1.2.0",
            "_view_name": "LayoutView",
            "align_content": null,
            "align_items": null,
            "align_self": null,
            "border": null,
            "bottom": null,
            "display": null,
            "flex": null,
            "flex_flow": null,
            "grid_area": null,
            "grid_auto_columns": null,
            "grid_auto_flow": null,
            "grid_auto_rows": null,
            "grid_column": null,
            "grid_gap": null,
            "grid_row": null,
            "grid_template_areas": null,
            "grid_template_columns": null,
            "grid_template_rows": null,
            "height": null,
            "justify_content": null,
            "justify_items": null,
            "left": null,
            "margin": null,
            "max_height": null,
            "max_width": null,
            "min_height": null,
            "min_width": null,
            "object_fit": null,
            "object_position": null,
            "order": null,
            "overflow": null,
            "overflow_x": null,
            "overflow_y": null,
            "padding": null,
            "right": null,
            "top": null,
            "visibility": null,
            "width": null
          }
        },
        "a41defc6bf2e46a0a0a2b6091be81a91": {
          "model_module": "@jupyter-widgets/controls",
          "model_name": "DescriptionStyleModel",
          "model_module_version": "1.5.0",
          "state": {
            "_model_module": "@jupyter-widgets/controls",
            "_model_module_version": "1.5.0",
            "_model_name": "DescriptionStyleModel",
            "_view_count": null,
            "_view_module": "@jupyter-widgets/base",
            "_view_module_version": "1.2.0",
            "_view_name": "StyleView",
            "description_width": ""
          }
        },
        "9b154cc47699405c99909f54dba2be75": {
          "model_module": "@jupyter-widgets/base",
          "model_name": "LayoutModel",
          "model_module_version": "1.2.0",
          "state": {
            "_model_module": "@jupyter-widgets/base",
            "_model_module_version": "1.2.0",
            "_model_name": "LayoutModel",
            "_view_count": null,
            "_view_module": "@jupyter-widgets/base",
            "_view_module_version": "1.2.0",
            "_view_name": "LayoutView",
            "align_content": null,
            "align_items": null,
            "align_self": null,
            "border": null,
            "bottom": null,
            "display": null,
            "flex": null,
            "flex_flow": null,
            "grid_area": null,
            "grid_auto_columns": null,
            "grid_auto_flow": null,
            "grid_auto_rows": null,
            "grid_column": null,
            "grid_gap": null,
            "grid_row": null,
            "grid_template_areas": null,
            "grid_template_columns": null,
            "grid_template_rows": null,
            "height": null,
            "justify_content": null,
            "justify_items": null,
            "left": null,
            "margin": null,
            "max_height": null,
            "max_width": null,
            "min_height": null,
            "min_width": null,
            "object_fit": null,
            "object_position": null,
            "order": null,
            "overflow": null,
            "overflow_x": null,
            "overflow_y": null,
            "padding": null,
            "right": null,
            "top": null,
            "visibility": null,
            "width": null
          }
        },
        "e80419ac1ce24eaabb8557ac637c06aa": {
          "model_module": "@jupyter-widgets/controls",
          "model_name": "ProgressStyleModel",
          "model_module_version": "1.5.0",
          "state": {
            "_model_module": "@jupyter-widgets/controls",
            "_model_module_version": "1.5.0",
            "_model_name": "ProgressStyleModel",
            "_view_count": null,
            "_view_module": "@jupyter-widgets/base",
            "_view_module_version": "1.2.0",
            "_view_name": "StyleView",
            "bar_color": null,
            "description_width": ""
          }
        },
        "5168e89042584c20a295e1d2938ad502": {
          "model_module": "@jupyter-widgets/base",
          "model_name": "LayoutModel",
          "model_module_version": "1.2.0",
          "state": {
            "_model_module": "@jupyter-widgets/base",
            "_model_module_version": "1.2.0",
            "_model_name": "LayoutModel",
            "_view_count": null,
            "_view_module": "@jupyter-widgets/base",
            "_view_module_version": "1.2.0",
            "_view_name": "LayoutView",
            "align_content": null,
            "align_items": null,
            "align_self": null,
            "border": null,
            "bottom": null,
            "display": null,
            "flex": null,
            "flex_flow": null,
            "grid_area": null,
            "grid_auto_columns": null,
            "grid_auto_flow": null,
            "grid_auto_rows": null,
            "grid_column": null,
            "grid_gap": null,
            "grid_row": null,
            "grid_template_areas": null,
            "grid_template_columns": null,
            "grid_template_rows": null,
            "height": null,
            "justify_content": null,
            "justify_items": null,
            "left": null,
            "margin": null,
            "max_height": null,
            "max_width": null,
            "min_height": null,
            "min_width": null,
            "object_fit": null,
            "object_position": null,
            "order": null,
            "overflow": null,
            "overflow_x": null,
            "overflow_y": null,
            "padding": null,
            "right": null,
            "top": null,
            "visibility": null,
            "width": null
          }
        },
        "9e10627cd3474bcebbfabd7ea80ff2c3": {
          "model_module": "@jupyter-widgets/controls",
          "model_name": "DescriptionStyleModel",
          "model_module_version": "1.5.0",
          "state": {
            "_model_module": "@jupyter-widgets/controls",
            "_model_module_version": "1.5.0",
            "_model_name": "DescriptionStyleModel",
            "_view_count": null,
            "_view_module": "@jupyter-widgets/base",
            "_view_module_version": "1.2.0",
            "_view_name": "StyleView",
            "description_width": ""
          }
        }
      }
    }
  },
  "nbformat": 4,
  "nbformat_minor": 0
}